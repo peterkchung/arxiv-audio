{
 "cells": [
  {
   "cell_type": "markdown",
   "metadata": {},
   "source": [
    "# ArXiv-Audio\n",
    "\n",
    "## Listen to the latest research papers.\n",
    "\n",
    "### Text-to-Speech\n",
    "\n",
    "TODOs:\n",
    "\n",
    "- Preprocessing\n",
    "- TTS pipeline\n",
    "- Postprocessing\n",
    "- UI"
   ]
  },
  {
   "cell_type": "markdown",
   "metadata": {},
   "source": []
  }
 ],
 "metadata": {
  "language_info": {
   "name": "python"
  }
 },
 "nbformat": 4,
 "nbformat_minor": 2
}
